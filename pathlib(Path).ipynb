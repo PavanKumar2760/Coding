{
 "cells": [
  {
   "cell_type": "markdown",
   "id": "5af2ae7c",
   "metadata": {},
   "source": [
    "## Here we will learn about the `pathlib library` it is very important in terms of data analysis. "
   ]
  },
  {
   "cell_type": "code",
   "execution_count": 10,
   "id": "72f299bd",
   "metadata": {},
   "outputs": [],
   "source": [
    "from pathlib import Path\n",
    "import torch\n",
    "import pandas\n",
    "import matplotlib.pyplot as plt\n"
   ]
  },
  {
   "cell_type": "markdown",
   "id": "366af994",
   "metadata": {},
   "source": [
    "### To get the current working directory."
   ]
  },
  {
   "cell_type": "code",
   "execution_count": 35,
   "id": "cfd4bcb5",
   "metadata": {},
   "outputs": [
    {
     "data": {
      "text/plain": [
       "PosixPath('/Users/pavankumar/Documents/Code_Basics_Python/path_command_in_python')"
      ]
     },
     "execution_count": 35,
     "metadata": {},
     "output_type": "execute_result"
    }
   ],
   "source": [
    "curr = Path.cwd()\n",
    "curr\n"
   ]
  },
  {
   "cell_type": "markdown",
   "id": "7b9e8be0",
   "metadata": {},
   "source": [
    "### To get the home directory."
   ]
  },
  {
   "cell_type": "code",
   "execution_count": 13,
   "id": "f8a39fce",
   "metadata": {},
   "outputs": [
    {
     "data": {
      "text/plain": [
       "PosixPath('/Users/pavankumar')"
      ]
     },
     "execution_count": 13,
     "metadata": {},
     "output_type": "execute_result"
    }
   ],
   "source": [
    "Path.home()\n",
    "\n"
   ]
  },
  {
   "cell_type": "markdown",
   "id": "a135d0aa",
   "metadata": {},
   "source": [
    "### Path(__file__) only works in python files not in jupyter notebooks."
   ]
  },
  {
   "cell_type": "markdown",
   "id": "2b430869",
   "metadata": {},
   "source": [
    "### To get the `parent directory` we use `Path.cwd().parents[i]`"
   ]
  },
  {
   "cell_type": "code",
   "execution_count": 26,
   "id": "9fe6e5cc",
   "metadata": {},
   "outputs": [
    {
     "data": {
      "text/plain": [
       "PosixPath('/Users/pavankumar/Documents/Code_Basics_Python')"
      ]
     },
     "execution_count": 26,
     "metadata": {},
     "output_type": "execute_result"
    }
   ],
   "source": [
    "Path.cwd().parents[0]"
   ]
  },
  {
   "cell_type": "code",
   "execution_count": 33,
   "id": "44f3d5ab",
   "metadata": {},
   "outputs": [
    {
     "data": {
      "text/plain": [
       "PosixPath('/Users/pavankumar/Documents/Code_Basics_Python')"
      ]
     },
     "execution_count": 33,
     "metadata": {},
     "output_type": "execute_result"
    }
   ],
   "source": [
    "curr_1 = Path.cwd().parent\n",
    "curr_1"
   ]
  },
  {
   "cell_type": "markdown",
   "id": "34a2c354",
   "metadata": {},
   "source": [
    "### Here we can `Join paths` using this library. "
   ]
  },
  {
   "cell_type": "code",
   "execution_count": 36,
   "id": "a28ecf25",
   "metadata": {},
   "outputs": [
    {
     "data": {
      "text/plain": [
       "PosixPath('/Users/pavankumar/Documents/Code_Basics_Python/path_command_in_python/output')"
      ]
     },
     "execution_count": 36,
     "metadata": {},
     "output_type": "execute_result"
    }
   ],
   "source": [
    "joined_path = curr/\"output\"\n",
    "joined_path"
   ]
  },
  {
   "cell_type": "markdown",
   "id": "57703164",
   "metadata": {},
   "source": [
    "### Here we will `make the new folder` of the `new path` that we have provided. After executing the above command the folder will be created and if there exist a folder of the name output then it will show the error like below as I have executed the below cell twice. If we put the `exist_ok = True` then if the filder is not there it will create the folder and if there exists a folder it will not show any error. "
   ]
  },
  {
   "cell_type": "code",
   "execution_count": 40,
   "id": "6365dfa6",
   "metadata": {},
   "outputs": [],
   "source": [
    "joined_path.mkdir(exist_ok = True) # w"
   ]
  },
  {
   "cell_type": "markdown",
   "id": "ac62eb1d",
   "metadata": {},
   "source": [
    "### Check weather a folder exists or not ?"
   ]
  },
  {
   "cell_type": "code",
   "execution_count": 42,
   "id": "1e761e13",
   "metadata": {},
   "outputs": [
    {
     "data": {
      "text/plain": [
       "True"
      ]
     },
     "execution_count": 42,
     "metadata": {},
     "output_type": "execute_result"
    }
   ],
   "source": [
    "joined_path.is_dir() # it is saying yes that means the folder exists. \n"
   ]
  },
  {
   "cell_type": "code",
   "execution_count": 45,
   "id": "1411c594",
   "metadata": {},
   "outputs": [
    {
     "data": {
      "text/plain": [
       "True"
      ]
     },
     "execution_count": 45,
     "metadata": {},
     "output_type": "execute_result"
    }
   ],
   "source": [
    "joined_path.is_dir()"
   ]
  },
  {
   "cell_type": "code",
   "execution_count": 50,
   "id": "d3e390c4",
   "metadata": {},
   "outputs": [],
   "source": [
    "example_file = joined_path/\"path.ipynb\""
   ]
  },
  {
   "cell_type": "code",
   "execution_count": 51,
   "id": "4ce01d78",
   "metadata": {},
   "outputs": [
    {
     "data": {
      "text/plain": [
       "True"
      ]
     },
     "execution_count": 51,
     "metadata": {},
     "output_type": "execute_result"
    }
   ],
   "source": [
    "example_file.is_file()"
   ]
  },
  {
   "cell_type": "markdown",
   "id": "8ada2fbf",
   "metadata": {},
   "source": [
    "## Now we we want to extract the file name we can use `.name` function."
   ]
  },
  {
   "cell_type": "code",
   "execution_count": 53,
   "id": "7e3b4466",
   "metadata": {},
   "outputs": [
    {
     "data": {
      "text/plain": [
       "'path.ipynb'"
      ]
     },
     "execution_count": 53,
     "metadata": {},
     "output_type": "execute_result"
    }
   ],
   "source": [
    "file_name = example_file.name\n",
    "file_name"
   ]
  },
  {
   "cell_type": "markdown",
   "id": "21ab4d23",
   "metadata": {},
   "source": [
    "### Here we can get `only the file name` wothout `the extension`. "
   ]
  },
  {
   "cell_type": "code",
   "execution_count": 56,
   "id": "c425bea0",
   "metadata": {},
   "outputs": [
    {
     "data": {
      "text/plain": [
       "'path'"
      ]
     },
     "execution_count": 56,
     "metadata": {},
     "output_type": "execute_result"
    }
   ],
   "source": [
    "example_file.stem"
   ]
  },
  {
   "cell_type": "markdown",
   "id": "5e1945b6",
   "metadata": {},
   "source": [
    "### If we `only` want the `file name extensions`. "
   ]
  },
  {
   "cell_type": "code",
   "execution_count": 57,
   "id": "762c4be7",
   "metadata": {},
   "outputs": [
    {
     "data": {
      "text/plain": [
       "'.ipynb'"
      ]
     },
     "execution_count": 57,
     "metadata": {},
     "output_type": "execute_result"
    }
   ],
   "source": [
    "example_file.suffix"
   ]
  },
  {
   "cell_type": "markdown",
   "id": "4ba6c79d",
   "metadata": {},
   "source": [
    "### `Iterate over files` in a directory."
   ]
  },
  {
   "cell_type": "code",
   "execution_count": 67,
   "id": "37d8da1b",
   "metadata": {},
   "outputs": [
    {
     "name": "stdout",
     "output_type": "stream",
     "text": [
      "/Users/pavankumar/Documents/Code_Basics_Python/path_command_in_python/output/check.ipynb\n",
      "/Users/pavankumar/Documents/Code_Basics_Python/path_command_in_python/output/path.ipynb\n"
     ]
    }
   ],
   "source": [
    "target_dir = curr/\"output\" # path to the directory where we want to do the analysis. \n",
    "for file in target_dir.iterdir():\n",
    "    print(file) # here we can print different, different things as per our requirements like file name by \n",
    "    # using (file.name) in place of file and if we want to extract the stem only name wothout prefix then we will\n",
    "    # use the (file.stem) in place of file in the below brackets like wise other functions also."
   ]
  },
  {
   "cell_type": "markdown",
   "id": "6898653d",
   "metadata": {},
   "source": [
    "### Iterate over files in a combined with `suffix`. Here we can iterate over the fils in so,me certain kind of suffix."
   ]
  },
  {
   "cell_type": "code",
   "execution_count": 70,
   "id": "1b2f8cde",
   "metadata": {},
   "outputs": [
    {
     "name": "stdout",
     "output_type": "stream",
     "text": [
      "/Users/pavankumar/Documents/Code_Basics_Python/path_command_in_python/output/2024 Schedule.xlsx\n"
     ]
    }
   ],
   "source": [
    "for file in target_dir.iterdir():\n",
    "    if file.suffix ==\".xlsx\":\n",
    "        print(file)\n",
    "    "
   ]
  },
  {
   "cell_type": "code",
   "execution_count": 72,
   "id": "c292c31e",
   "metadata": {},
   "outputs": [
    {
     "name": "stdout",
     "output_type": "stream",
     "text": [
      "/Users/pavankumar/Documents/Code_Basics_Python/path_command_in_python/output/check.ipynb\n",
      "/Users/pavankumar/Documents/Code_Basics_Python/path_command_in_python/output/path.ipynb\n"
     ]
    }
   ],
   "source": [
    "for file in target_dir.iterdir():\n",
    "    if file.suffix ==\".ipynb\":\n",
    "        print(file)"
   ]
  },
  {
   "cell_type": "code",
   "execution_count": 74,
   "id": "cbe45bfa",
   "metadata": {},
   "outputs": [
    {
     "name": "stdout",
     "output_type": "stream",
     "text": [
      ".DS_Store\n",
      "check\n",
      "path\n",
      "additional_files\n",
      "2024 Schedule\n",
      "Untitled\n"
     ]
    }
   ],
   "source": [
    "for file in target_dir.rglob(\"*\"):\n",
    "    print(file.stem)\n"
   ]
  },
  {
   "cell_type": "code",
   "execution_count": null,
   "id": "eee8791c",
   "metadata": {},
   "outputs": [],
   "source": []
  }
 ],
 "metadata": {
  "kernelspec": {
   "display_name": "Python 3 (ipykernel)",
   "language": "python",
   "name": "python3"
  },
  "language_info": {
   "codemirror_mode": {
    "name": "ipython",
    "version": 3
   },
   "file_extension": ".py",
   "mimetype": "text/x-python",
   "name": "python",
   "nbconvert_exporter": "python",
   "pygments_lexer": "ipython3",
   "version": "3.8.10"
  }
 },
 "nbformat": 4,
 "nbformat_minor": 5
}
