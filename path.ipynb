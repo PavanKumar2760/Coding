{
 "cells": [
  {
   "cell_type": "markdown",
   "id": "1671fe89",
   "metadata": {},
   "source": [
    "## Herw we will learn about the `pathlib library` it is very important in terms of data analysis. "
   ]
  },
  {
   "cell_type": "code",
   "execution_count": 10,
   "id": "3c491797",
   "metadata": {},
   "outputs": [],
   "source": [
    "from pathlib import Path\n",
    "import torch\n",
    "import pandas\n",
    "import matplotlib.pyplot as plt\n"
   ]
  },
  {
   "cell_type": "markdown",
   "id": "31b314a7",
   "metadata": {},
   "source": [
    "### To get the current working directory."
   ]
  },
  {
   "cell_type": "code",
   "execution_count": 35,
   "id": "d7f188fa",
   "metadata": {},
   "outputs": [
    {
     "data": {
      "text/plain": [
       "PosixPath('/Users/pavankumar/Documents/Code_Basics_Python/path_command_in_python')"
      ]
     },
     "execution_count": 35,
     "metadata": {},
     "output_type": "execute_result"
    }
   ],
   "source": [
    "curr = Path.cwd()\n",
    "curr\n"
   ]
  },
  {
   "cell_type": "markdown",
   "id": "4d89095d",
   "metadata": {},
   "source": [
    "### To get the home directory."
   ]
  },
  {
   "cell_type": "code",
   "execution_count": 13,
   "id": "2dffd137",
   "metadata": {},
   "outputs": [
    {
     "data": {
      "text/plain": [
       "PosixPath('/Users/pavankumar')"
      ]
     },
     "execution_count": 13,
     "metadata": {},
     "output_type": "execute_result"
    }
   ],
   "source": [
    "Path.home()\n",
    "\n"
   ]
  },
  {
   "cell_type": "markdown",
   "id": "9af9a218",
   "metadata": {},
   "source": [
    "### Path(__file__) only works in python files not in jupyter notebooks."
   ]
  },
  {
   "cell_type": "markdown",
   "id": "a43ec67f",
   "metadata": {},
   "source": [
    "### To get the `parent directory` we use `Path.cwd().parents[i]`"
   ]
  },
  {
   "cell_type": "code",
   "execution_count": 26,
   "id": "ff068ccb",
   "metadata": {},
   "outputs": [
    {
     "data": {
      "text/plain": [
       "PosixPath('/Users/pavankumar/Documents/Code_Basics_Python')"
      ]
     },
     "execution_count": 26,
     "metadata": {},
     "output_type": "execute_result"
    }
   ],
   "source": [
    "Path.cwd().parents[0]"
   ]
  },
  {
   "cell_type": "code",
   "execution_count": 33,
   "id": "db62545b",
   "metadata": {},
   "outputs": [
    {
     "data": {
      "text/plain": [
       "PosixPath('/Users/pavankumar/Documents/Code_Basics_Python')"
      ]
     },
     "execution_count": 33,
     "metadata": {},
     "output_type": "execute_result"
    }
   ],
   "source": [
    "curr_1 = Path.cwd().parent\n",
    "curr_1"
   ]
  },
  {
   "cell_type": "markdown",
   "id": "ce056bef",
   "metadata": {},
   "source": [
    "### Here we can `Join paths` using this library. "
   ]
  },
  {
   "cell_type": "code",
   "execution_count": 36,
   "id": "5579df47",
   "metadata": {},
   "outputs": [
    {
     "data": {
      "text/plain": [
       "PosixPath('/Users/pavankumar/Documents/Code_Basics_Python/path_command_in_python/output')"
      ]
     },
     "execution_count": 36,
     "metadata": {},
     "output_type": "execute_result"
    }
   ],
   "source": [
    "joined_path = curr/\"output\"\n",
    "joined_path"
   ]
  },
  {
   "cell_type": "markdown",
   "id": "5383d9b7",
   "metadata": {},
   "source": [
    "### Here we will `make the new folder` of the `new path` that we have provided. After executing the above command the folder will be created and if there exist a folder of the name output then it will show the error like below as I have executed the below cell twice. If we put the `exist_ok = True` then if the filder is not there it will create the folder and if there exists a folder it will not show any error. "
   ]
  },
  {
   "cell_type": "code",
   "execution_count": 40,
   "id": "9ad210c0",
   "metadata": {},
   "outputs": [],
   "source": [
    "joined_path.mkdir(exist_ok = True) # w"
   ]
  },
  {
   "cell_type": "markdown",
   "id": "615ee53f",
   "metadata": {},
   "source": [
    "### Check weather a folder exists or not ?"
   ]
  },
  {
   "cell_type": "code",
   "execution_count": 42,
   "id": "4c250194",
   "metadata": {},
   "outputs": [
    {
     "data": {
      "text/plain": [
       "True"
      ]
     },
     "execution_count": 42,
     "metadata": {},
     "output_type": "execute_result"
    }
   ],
   "source": [
    "joined_path.is_dir() # it is saying yes that means the folder exists. \n"
   ]
  },
  {
   "cell_type": "code",
   "execution_count": 45,
   "id": "61b49474",
   "metadata": {},
   "outputs": [
    {
     "data": {
      "text/plain": [
       "True"
      ]
     },
     "execution_count": 45,
     "metadata": {},
     "output_type": "execute_result"
    }
   ],
   "source": [
    "joined_path.is_dir()"
   ]
  },
  {
   "cell_type": "code",
   "execution_count": 46,
   "id": "9f6232bd",
   "metadata": {},
   "outputs": [],
   "source": [
    "example_file = joined_path/\"example_file.txt\""
   ]
  },
  {
   "cell_type": "code",
   "execution_count": 49,
   "id": "c25a2ac7",
   "metadata": {},
   "outputs": [
    {
     "data": {
      "text/plain": [
       "False"
      ]
     },
     "execution_count": 49,
     "metadata": {},
     "output_type": "execute_result"
    }
   ],
   "source": [
    "example_file.is_file()"
   ]
  },
  {
   "cell_type": "code",
   "execution_count": null,
   "id": "af067155",
   "metadata": {},
   "outputs": [],
   "source": []
  }
 ],
 "metadata": {
  "kernelspec": {
   "display_name": "Python 3 (ipykernel)",
   "language": "python",
   "name": "python3"
  },
  "language_info": {
   "codemirror_mode": {
    "name": "ipython",
    "version": 3
   },
   "file_extension": ".py",
   "mimetype": "text/x-python",
   "name": "python",
   "nbconvert_exporter": "python",
   "pygments_lexer": "ipython3",
   "version": "3.8.10"
  }
 },
 "nbformat": 4,
 "nbformat_minor": 5
}
